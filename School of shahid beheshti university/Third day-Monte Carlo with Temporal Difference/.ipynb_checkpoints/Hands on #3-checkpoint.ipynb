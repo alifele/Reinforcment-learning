{
 "cells": [
  {
   "cell_type": "code",
   "execution_count": 5,
   "metadata": {},
   "outputs": [],
   "source": [
    "import numpy as np\n",
    "import matplotlib.pyplot as plt"
   ]
  },
  {
   "cell_type": "markdown",
   "metadata": {},
   "source": [
    "### Frozen Lake 8*8"
   ]
  },
  {
   "cell_type": "markdown",
   "metadata": {},
   "source": [
    "Winter is here. You and your friends were tossing around a frisbee at the park when you made a wild throw that left the frisbee out in the middle of the lake. The water is mostly frozen, but there are a few holes where the ice has melted. If you step into one of those holes, you'll fall into the freezing water. At this time, there's an international frisbee shortage, so it's absolutely imperative that you navigate across the lake and retrieve the disc. However, the ice is slippery, so you won't always move in the direction you intend.\n",
    "\n",
    "The surface is described using a grid like the following:\n",
    "\n",
    "SFFF       (S: starting point, safe)\n",
    "\n",
    "FHFH       (F: frozen surface, safe)\n",
    "\n",
    "FFFH       (H: hole, fall to your doom)\n",
    "\n",
    "HFFG       (G: goal, where the frisbee is located)\n",
    "\n",
    "\n",
    "The episode ends when you reach the goal or fall in a hole. You receive a reward of 100 if you reach the goal, -100 if you fall into the hole, and -0.1 for each step you take."
   ]
  },
  {
   "cell_type": "markdown",
   "metadata": {},
   "source": [
    "### Getting Started"
   ]
  },
  {
   "cell_type": "markdown",
   "metadata": {},
   "source": [
    "Run the following code and observe the result."
   ]
  },
  {
   "cell_type": "code",
   "execution_count": 88,
   "metadata": {},
   "outputs": [
    {
     "name": "stdout",
     "output_type": "stream",
     "text": [
      "\n",
      "\u001b[44mS\u001b[0mFFFFFFF\n",
      "FFFFFFFF\n",
      "FFFHFFFF\n",
      "FFFFFFFF\n",
      "FFFFHFFF\n",
      "FFHFFFFF\n",
      "FFHFHFFF\n",
      "FFFHFFFG\n",
      "  (Up)\n",
      "\u001b[44mS\u001b[0mFFFFFFF\n",
      "FFFFFFFF\n",
      "FFFHFFFF\n",
      "FFFFFFFF\n",
      "FFFFHFFF\n",
      "FFHFFFFF\n",
      "FFHFHFFF\n",
      "FFFHFFFG\n",
      "  (Right)\n",
      "S\u001b[44mF\u001b[0mFFFFFF\n",
      "FFFFFFFF\n",
      "FFFHFFFF\n",
      "FFFFFFFF\n",
      "FFFFHFFF\n",
      "FFHFFFFF\n",
      "FFHFHFFF\n",
      "FFFHFFFG\n",
      "  (Right)\n",
      "SF\u001b[44mF\u001b[0mFFFFF\n",
      "FFFFFFFF\n",
      "FFFHFFFF\n",
      "FFFFFFFF\n",
      "FFFFHFFF\n",
      "FFHFFFFF\n",
      "FFHFHFFF\n",
      "FFFHFFFG\n",
      "  (Right)\n",
      "SFF\u001b[44mF\u001b[0mFFFF\n",
      "FFFFFFFF\n",
      "FFFHFFFF\n",
      "FFFFFFFF\n",
      "FFFFHFFF\n",
      "FFHFFFFF\n",
      "FFHFHFFF\n",
      "FFFHFFFG\n"
     ]
    }
   ],
   "source": [
    "%run FrozenLake.ipynb\n",
    "\n",
    "env = FrozenLakeEnv()\n",
    "state = env.reset()\n",
    "\n",
    "for _ in range(5):\n",
    "    env.render()\n",
    "    state, reward, done, info = env.step(env.action_space.sample()) # take a random action\n",
    "    \n",
    "env.close()"
   ]
  },
  {
   "cell_type": "markdown",
   "metadata": {},
   "source": [
    "Run the following code and find the optimal policy using value iteration."
   ]
  },
  {
   "cell_type": "code",
   "execution_count": 118,
   "metadata": {},
   "outputs": [
    {
     "name": "stdout",
     "output_type": "stream",
     "text": [
      "[[2 2 2 2 2 2 1 1]\n",
      " [2 2 3 3 2 1 1 1]\n",
      " [3 3 0 0 2 2 1 1]\n",
      " [3 3 0 1 3 2 1 1]\n",
      " [3 0 3 0 0 2 1 1]\n",
      " [3 0 0 3 2 2 1 1]\n",
      " [3 0 0 3 0 2 1 1]\n",
      " [3 0 0 0 2 2 2 0]]\n"
     ]
    },
    {
     "data": {
      "text/plain": [
       "<matplotlib.image.AxesImage at 0x7fe379df49b0>"
      ]
     },
     "execution_count": 118,
     "metadata": {},
     "output_type": "execute_result"
    },
    {
     "data": {
      "image/png": "[encoded data removed]",
      "text/plain": [
       "<Figure size 432x288 with 1 Axes>"
      ]
     },
     "metadata": {
      "needs_background": "light"
     },
     "output_type": "display_data"
    }
   ],
   "source": [
    "import numpy as np\n",
    "\n",
    "env.reset()\n",
    "\n",
    "State_Value = np.zeros(env.nS)\n",
    "num_iter = 10000\n",
    "theta = 1e-10\n",
    "gamma = 1\n",
    "Policy = np.zeros(env.nS,dtype='int')\n",
    "delta=1\n",
    "\n",
    "while delta>theta:\n",
    "    delta = 0\n",
    "    for s in range(env.nS):\n",
    "        V = np.copy(State_Value[s])\n",
    "        Q = np.zeros(env.nA)\n",
    "        for a in range(env.nA):\n",
    "            for p, next_s, r, d in env.P[s][a]:\n",
    "                Q[a] += p*(r+gamma*State_Value[next_s])\n",
    "        State_Value[s] = np.max(Q)\n",
    "        Policy[s] = int(np.argmax(Q))\n",
    "        delta = max(delta, abs(V-State_Value[s]))\n",
    "        \n",
    "print(Policy.reshape(8,8))\n",
    "plt.imshow(Policy.reshape((8,8)))"
   ]
  },
  {
   "cell_type": "code",
   "execution_count": 119,
   "metadata": {},
   "outputs": [
    {
     "data": {
      "text/plain": [
       "Text(0.5, 1.0, 'the env')"
      ]
     },
     "execution_count": 119,
     "metadata": {},
     "output_type": "execute_result"
    },
    {
     "data": {
      "image/png": "[encoded data removed]",
      "text/plain": [
       "<Figure size 432x288 with 1 Axes>"
      ]
     },
     "metadata": {
      "needs_background": "light"
     },
     "output_type": "display_data"
    }
   ],
   "source": [
    "table = np.zeros((8,8))\n",
    "val = {b'S':1,b'F':0,b'H':-1,b'G':1}\n",
    "for i in range(8):\n",
    "    for j in range(8):\n",
    "        table[i,j] = val[env.desc[i,j]]\n",
    "plt.imshow(table)\n",
    "plt.title('the env')\n",
    "    "
   ]
  },
  {
   "cell_type": "code",
   "execution_count": 121,
   "metadata": {},
   "outputs": [
    {
     "data": {
      "text/plain": [
       "Text(0.5, 1.0, 'The moves')"
      ]
     },
     "execution_count": 121,
     "metadata": {},
     "output_type": "execute_result"
    },
    {
     "data": {
      "image/png": "[encoded data removed]",
      "text/plain": [
       "<Figure size 432x288 with 1 Axes>"
      ]
     },
     "metadata": {
      "needs_background": "light"
     },
     "output_type": "display_data"
    }
   ],
   "source": [
    "move = {2:'$\\\\rightarrow$',1:'$\\\\downarrow$',3:'$\\\\uparrow$',0:'$\\\\leftarrow$'}\n",
    "d=1/9\n",
    "for i in range(1,9):\n",
    "    for j in range(1,9):\n",
    "        if table[i-1,j-1]==-1:\n",
    "            plt.text(d*j,1-d*i,'Hole',size=12)\n",
    "            continue\n",
    "        plt.text(d*j,1-d*i,move[Policy.reshape((8,8))[i-1,j-1]],size=18)\n",
    "plt.title(\"The moves\")    \n"
   ]
  },
  {
   "cell_type": "markdown",
   "metadata": {},
   "source": [
    "### Q-Learning"
   ]
  },
  {
   "cell_type": "markdown",
   "metadata": {},
   "source": [
    "Find the best policy using Q-Learning algorithm.\n",
    "Use an epsilon greedy policy with decaying epsilon."
   ]
  },
  {
   "cell_type": "code",
   "execution_count": 90,
   "metadata": {},
   "outputs": [
    {
     "data": {
      "text/plain": [
       "{0: [(0.15, 1, -0.1, False), (0.7, 0, -0.1, False), (0.15, 9, -0.1, False)],\n",
       " 1: [(0.15, 0, -0.1, False), (0.7, 9, -0.1, False), (0.15, 2, -0.1, False)],\n",
       " 2: [(0.15, 9, -0.1, False), (0.7, 2, -0.1, False), (0.15, 1, -0.1, False)],\n",
       " 3: [(0.15, 2, -0.1, False), (0.7, 1, -0.1, False), (0.15, 0, -0.1, False)]}"
      ]
     },
     "execution_count": 90,
     "metadata": {},
     "output_type": "execute_result"
    }
   ],
   "source": [
    "env.P[1]"
   ]
  },
  {
   "cell_type": "code",
   "execution_count": 91,
   "metadata": {},
   "outputs": [],
   "source": [
    "alpha = 0.2"
   ]
  },
  {
   "cell_type": "code",
   "execution_count": 92,
   "metadata": {},
   "outputs": [
    {
     "data": {
      "text/plain": [
       "array([[0, 1, 2, 0, 1, 2, 0, 0],\n",
       "       [2, 2, 1, 2, 0, 1, 0, 2],\n",
       "       [2, 0, 2, 0, 0, 2, 2, 2],\n",
       "       [2, 1, 0, 0, 0, 2, 2, 1],\n",
       "       [2, 2, 0, 0, 2, 2, 0, 0],\n",
       "       [2, 0, 0, 0, 0, 0, 1, 2],\n",
       "       [2, 1, 1, 2, 2, 0, 1, 2],\n",
       "       [1, 1, 0, 1, 0, 0, 2, 2]])"
      ]
     },
     "execution_count": 92,
     "metadata": {},
     "output_type": "execute_result"
    }
   ],
   "source": [
    "np.random.randint(3, size= (8,8))"
   ]
  },
  {
   "cell_type": "code",
   "execution_count": 93,
   "metadata": {},
   "outputs": [
    {
     "data": {
      "text/plain": [
       "(1, -0.1, False, {'prob': 0.7})"
      ]
     },
     "execution_count": 93,
     "metadata": {},
     "output_type": "execute_result"
    }
   ],
   "source": [
    "env.nA\n",
    "env.step(2)"
   ]
  },
  {
   "cell_type": "code",
   "execution_count": 94,
   "metadata": {},
   "outputs": [],
   "source": [
    "def row_col_finder(state):\n",
    "    i = state//8\n",
    "    j = state%8\n",
    "    return i,j"
   ]
  },
  {
   "cell_type": "code",
   "execution_count": 95,
   "metadata": {},
   "outputs": [
    {
     "data": {
      "text/plain": [
       "(0, 0)"
      ]
     },
     "execution_count": 95,
     "metadata": {},
     "output_type": "execute_result"
    }
   ],
   "source": [
    "row_col_finder(0)"
   ]
  },
  {
   "cell_type": "code",
   "execution_count": null,
   "metadata": {},
   "outputs": [],
   "source": []
  },
  {
   "cell_type": "code",
   "execution_count": null,
   "metadata": {},
   "outputs": [],
   "source": []
  },
  {
   "cell_type": "code",
   "execution_count": 136,
   "metadata": {},
   "outputs": [],
   "source": [
    "import numpy as np\n",
    "\n",
    "#initialize the algorithm parameters, state-action values, and policy  \n",
    "alpha = 0.2\n",
    "ep = 0.73\n",
    "policy = np.random.randint(4,size = (8,8))\n",
    "Q = np.ones((8,8,4))*10\n",
    "\n",
    "#define epsilon-greedy function\n",
    "def ep_greedy(Q,ep):\n",
    "    rand = np.random.random()\n",
    "    if rand < 1-ep:\n",
    "        return np.argmax(Q)\n",
    "    return np.random.randint(env.nA)\n",
    "   \n",
    "#start the learning loop\n",
    "for n in range(num_iter):\n",
    "    \n",
    "    #initialize the first state \n",
    "    state = 0\n",
    "    env.reset() \n",
    "    done = False\n",
    "    \n",
    "    #start the episode:\n",
    "    while done == False:\n",
    "        \n",
    "        #get the next action using the soft policy and execute it and get the reward:\n",
    "        Action = ep_greedy(Q[row_col_finder(state)],ep)\n",
    "        state_prime, reward, done, info = env.step(Action)\n",
    "        \n",
    "        Qs_Sprime = []\n",
    "        for a in range(env.nA):\n",
    "            Qs_Sprime.append(Q[row_col_finder(state_prime)][a])\n",
    "    \n",
    "        #update the state-action value Q(s,a) and go to the next state:\n",
    "\n",
    "        Q[row_col_finder(state)][Action] += alpha*(reward + np.max(Qs_Sprime)-Q[row_col_finder(state)][Action])\n",
    "        #print(reward )\n",
    "        policy[row_col_finder(state)]=Action\n",
    "        state = state_prime\n",
    "        \n",
    "            \n",
    "    #update epsilon:\n",
    "    ep *= 0.999\n",
    "    "
   ]
  },
  {
   "cell_type": "markdown",
   "metadata": {},
   "source": [
    "Print what the best action in each state is."
   ]
  },
  {
   "cell_type": "code",
   "execution_count": 137,
   "metadata": {},
   "outputs": [
    {
     "data": {
      "text/plain": [
       "<matplotlib.image.AxesImage at 0x7fe3797a8f60>"
      ]
     },
     "execution_count": 137,
     "metadata": {},
     "output_type": "execute_result"
    },
    {
     "data": {
      "image/png": "[encoded data removed]",
      "text/plain": [
       "<Figure size 432x288 with 1 Axes>"
      ]
     },
     "metadata": {
      "needs_background": "light"
     },
     "output_type": "display_data"
    }
   ],
   "source": [
    "plt.imshow(policy)\n"
   ]
  },
  {
   "cell_type": "code",
   "execution_count": 138,
   "metadata": {},
   "outputs": [
    {
     "data": {
      "text/plain": [
       "Text(0.5, 1.0, 'the env')"
      ]
     },
     "execution_count": 138,
     "metadata": {},
     "output_type": "execute_result"
    },
    {
     "data": {
      "image/png": "[encoded data removed]",
      "text/plain": [
       "<Figure size 432x288 with 1 Axes>"
      ]
     },
     "metadata": {
      "needs_background": "light"
     },
     "output_type": "display_data"
    }
   ],
   "source": [
    "table = np.zeros((8,8))\n",
    "val = {b'S':1,b'F':0,b'H':-1,b'G':1}\n",
    "for i in range(8):\n",
    "    for j in range(8):\n",
    "        table[i,j] = val[env.desc[i,j]]\n",
    "plt.imshow(table)\n",
    "plt.title('the env')\n",
    "    "
   ]
  },
  {
   "cell_type": "code",
   "execution_count": 139,
   "metadata": {},
   "outputs": [
    {
     "data": {
      "text/plain": [
       "Text(0.5, 1.0, 'Value update')"
      ]
     },
     "execution_count": 139,
     "metadata": {},
     "output_type": "execute_result"
    },
    {
     "data": {
      "image/png": "[encoded data removed]",
      "text/plain": [
       "<Figure size 432x288 with 1 Axes>"
      ]
     },
     "metadata": {
      "needs_background": "light"
     },
     "output_type": "display_data"
    },
    {
     "data": {
      "image/png": "[encoded data removed]",
      "text/plain": [
       "<Figure size 432x288 with 1 Axes>"
      ]
     },
     "metadata": {
      "needs_background": "light"
     },
     "output_type": "display_data"
    }
   ],
   "source": [
    "move = {2:'$\\\\rightarrow$',1:'$\\\\downarrow$',3:'$\\\\uparrow$',0:'$\\\\leftarrow$'}\n",
    "d=1/9\n",
    "for i in range(1,9):\n",
    "    for j in range(1,9):\n",
    "        if table[i-1,j-1]==-1:\n",
    "            plt.text(d*j,1-d*i,'Hole',size=12)\n",
    "            continue\n",
    "        plt.text(d*j,1-d*i,move[policy[i-1,j-1]],size=18)\n",
    "plt.title(\"Q Learning\")    \n",
    "plt.figure()\n",
    "move = {2:'$\\\\rightarrow$',1:'$\\\\downarrow$',3:'$\\\\uparrow$',0:'$\\\\leftarrow$'}\n",
    "d=1/9\n",
    "for i in range(1,9):\n",
    "    for j in range(1,9):\n",
    "        if table[i-1,j-1]==-1:\n",
    "            plt.text(d*j,1-d*i,'Hole',size=12)\n",
    "            continue\n",
    "        plt.text(d*j,1-d*i,move[Policy.reshape((8,8))[i-1,j-1]],size=18)\n",
    "plt.title(\"Value update\")    \n"
   ]
  },
  {
   "cell_type": "code",
   "execution_count": null,
   "metadata": {},
   "outputs": [],
   "source": []
  },
  {
   "cell_type": "markdown",
   "metadata": {},
   "source": [
    "Show your result and print the total reward that you recieved."
   ]
  },
  {
   "cell_type": "code",
   "execution_count": null,
   "metadata": {},
   "outputs": [],
   "source": []
  },
  {
   "cell_type": "markdown",
   "metadata": {},
   "source": [
    "### Sarsa"
   ]
  },
  {
   "cell_type": "markdown",
   "metadata": {},
   "source": [
    "Find the best policy using Sarsa algorithm.\n",
    "Use an epsilon greedy policy with decaying epsilon."
   ]
  },
  {
   "cell_type": "code",
   "execution_count": 147,
   "metadata": {},
   "outputs": [],
   "source": [
    "import numpy as np\n",
    "\n",
    "#initialize the algorithm parameters, state-action values, and policy\n",
    "ep = 0.6\n",
    "aplha = 0.2\n",
    "gamma = 1\n",
    "policy = np.random.randint(env.nA, size = (8,8))\n",
    "Q = np.zeros((8,8,4))\n",
    "\n",
    "#define epsilon-greedy function\n",
    "def ep_greedy(Q,ep):\n",
    "    rand = np.random.random()\n",
    "    if rand <ep:\n",
    "        return np.argmax(Q)\n",
    "    return np.random.randint(env.nA)\n",
    "\n",
    "#start the learning loop    \n",
    "for n in range(num_iter):\n",
    "    #initialize the first state and get the next action using the soft policy derived from Q-values\n",
    "    state = 0\n",
    "    env.reset()\n",
    "    done = False\n",
    "    Action = ep_greedy(Q[row_col_finder(state)],ep)\n",
    "    #start the episode:\n",
    "    while done == False: \n",
    "        #execute the selected action, go to the next state, get the reward\n",
    "        state_prime , reward, done, info = env.step(Action)\n",
    "        #and select the next action using the soft policy derived from Q-values\n",
    "        Action_prime = ep_greedy(Q[row_col_finder(state_prime)],ep)\n",
    "        #finaly update the Q-values:\n",
    "        Q[row_col_finder(state)][Action] += alpha*(reward + gamma*Q[row_col_finder(state_prime)][Action_prime] - Q[row_col_finder(state)][Action])\n",
    "        state = state_prime\n",
    "        Action = Action_prime\n",
    "    #update epsilon    \n",
    "    ep *= 0.999"
   ]
  },
  {
   "cell_type": "markdown",
   "metadata": {},
   "source": [
    "Print what the best action in each state is."
   ]
  },
  {
   "cell_type": "code",
   "execution_count": 148,
   "metadata": {},
   "outputs": [
    {
     "data": {
      "text/plain": [
       "<matplotlib.image.AxesImage at 0x7fe379325160>"
      ]
     },
     "execution_count": 148,
     "metadata": {},
     "output_type": "execute_result"
    },
    {
     "data": {
      "image/png": "[encoded data removed]",
      "text/plain": [
       "<Figure size 432x288 with 1 Axes>"
      ]
     },
     "metadata": {
      "needs_background": "light"
     },
     "output_type": "display_data"
    }
   ],
   "source": [
    "plt.imshow(policy)"
   ]
  },
  {
   "cell_type": "markdown",
   "metadata": {},
   "source": [
    "Show your result and print the total reward that you recieved."
   ]
  },
  {
   "cell_type": "code",
   "execution_count": 150,
   "metadata": {},
   "outputs": [
    {
     "data": {
      "text/plain": [
       "Text(0.5, 1.0, 'Value update')"
      ]
     },
     "execution_count": 150,
     "metadata": {},
     "output_type": "execute_result"
    },
    {
     "data": {
      "image/png": "[encoded data removed]",
      "text/plain": [
       "<Figure size 432x288 with 1 Axes>"
      ]
     },
     "metadata": {
      "needs_background": "light"
     },
     "output_type": "display_data"
    },
    {
     "data": {
      "image/png": "[encoded data removed]",
      "text/plain": [
       "<Figure size 432x288 with 1 Axes>"
      ]
     },
     "metadata": {
      "needs_background": "light"
     },
     "output_type": "display_data"
    }
   ],
   "source": [
    "move = {2:'$\\\\rightarrow$',1:'$\\\\downarrow$',3:'$\\\\uparrow$',0:'$\\\\leftarrow$'}\n",
    "d=1/9\n",
    "for i in range(1,9):\n",
    "    for j in range(1,9):\n",
    "        if table[i-1,j-1]==-1:\n",
    "            plt.text(d*j,1-d*i,'Hole',size=12)\n",
    "            continue\n",
    "        plt.text(d*j,1-d*i,move[policy[i-1,j-1]],size=18)\n",
    "plt.title(\"Sarsa\")    \n",
    "plt.figure()\n",
    "move = {2:'$\\\\rightarrow$',1:'$\\\\downarrow$',3:'$\\\\uparrow$',0:'$\\\\leftarrow$'}\n",
    "d=1/9\n",
    "for i in range(1,9):\n",
    "    for j in range(1,9):\n",
    "        if table[i-1,j-1]==-1:\n",
    "            plt.text(d*j,1-d*i,'Hole',size=12)\n",
    "            continue\n",
    "        plt.text(d*j,1-d*i,move[Policy.reshape((8,8))[i-1,j-1]],size=18)\n",
    "plt.title(\"Value update\")    \n"
   ]
  },
  {
   "cell_type": "markdown",
   "metadata": {},
   "source": [
    "### Off-Policy Monte-Carlo Control"
   ]
  },
  {
   "cell_type": "markdown",
   "metadata": {},
   "source": [
    "Find the best policy using off-policy monte-carlo algorithm.\n",
    "Use an epsilon greedy policy with decaying epsilon."
   ]
  },
  {
   "cell_type": "code",
   "execution_count": null,
   "metadata": {},
   "outputs": [],
   "source": [
    "import numpy as np\n",
    "\n",
    "#initialize the algorithm parameters, state-action values, policy, and C(s,a)\n",
    "\n",
    "\n",
    "#define epsilon-greedy function\n",
    "def ep_greedy(Q,ep):\n",
    "\n",
    "    return policy\n",
    "\n",
    "#define the episode generator function\n",
    "def episode_generator(policy):\n",
    "    done = False\n",
    "    state = []\n",
    "    action = []\n",
    "    reward = []\n",
    "    \n",
    "    \n",
    "    return np.asarray(state), np.asarray(action), np.asarray(reward)\n",
    "    \n",
    "\n",
    "#start the learning loop    \n",
    "for n in range(num_iter):\n",
    "    \n",
    "    #update the soft policy and generate the episode based on it\n",
    "    \n",
    "    \n",
    "    #start updating the Q-values from the last state\n",
    "    #remember to check whether the chosen action is equivalent to the action that is slected by the greedy policy \n",
    "    \n",
    "    \n",
    "\n",
    "    #update epsilon\n",
    "    \n",
    "    "
   ]
  },
  {
   "cell_type": "markdown",
   "metadata": {},
   "source": [
    "Print what the best action in each state is."
   ]
  },
  {
   "cell_type": "code",
   "execution_count": null,
   "metadata": {},
   "outputs": [],
   "source": []
  },
  {
   "cell_type": "markdown",
   "metadata": {},
   "source": [
    "Show your result and print the total reward that you recieved."
   ]
  },
  {
   "cell_type": "code",
   "execution_count": null,
   "metadata": {},
   "outputs": [],
   "source": []
  },
  {
   "cell_type": "markdown",
   "metadata": {},
   "source": [
    "### Sarsa($\\lambda$)"
   ]
  },
  {
   "cell_type": "markdown",
   "metadata": {},
   "source": [
    "Find the best policy using Sarsa($\\lambda$) algorithm.\n",
    "Use an epsilon greedy policy with decaying epsilon."
   ]
  },
  {
   "cell_type": "code",
   "execution_count": null,
   "metadata": {},
   "outputs": [],
   "source": [
    "import numpy as np\n",
    "\n",
    "#initialize the algorithm parameters, state-action values, and policy\n",
    "\n",
    "\n",
    "#define epsilon-greedy function\n",
    "def ep_greedy(Q,ep):\n",
    "\n",
    "    return policy\n",
    "\n",
    "#start the learning loop    \n",
    "for n in range(num_iter):\n",
    "    \n",
    "    #initialize the first state and get the next action using the soft policy derived from Q-values\n",
    "    #initialize eligibility traces\n",
    "    \n",
    "    \n",
    "    #start the episode:\n",
    "    while done == False:\n",
    "        \n",
    "        #execute the selected action, go to the next state, get the reward\n",
    "        #and select the next action using the soft policy derived from Q-values\n",
    "        #finaly calculate delta and upate the eligibility trace:\n",
    "        \n",
    "        \n",
    "        #for all the state-action pairs so far, update Q-values and eligibility traces\n",
    "        \n",
    "        \n",
    "        # go to the next state\n",
    "        \n",
    "        \n",
    "    #update epsilon    \n",
    "    \n",
    "    "
   ]
  },
  {
   "cell_type": "markdown",
   "metadata": {},
   "source": [
    "Print what the best action in each state is."
   ]
  },
  {
   "cell_type": "code",
   "execution_count": null,
   "metadata": {},
   "outputs": [],
   "source": []
  },
  {
   "cell_type": "markdown",
   "metadata": {},
   "source": [
    "Show your result and print the total reward that you recieved."
   ]
  },
  {
   "cell_type": "code",
   "execution_count": null,
   "metadata": {},
   "outputs": [],
   "source": []
  }
 ],
 "metadata": {
  "kernelspec": {
   "display_name": "Python 3",
   "language": "python",
   "name": "python3"
  },
  "language_info": {
   "codemirror_mode": {
    "name": "ipython",
    "version": 3
   },
   "file_extension": ".py",
   "mimetype": "text/x-python",
   "name": "python",
   "nbconvert_exporter": "python",
   "pygments_lexer": "ipython3",
   "version": "3.7.3"
  }
 },
 "nbformat": 4,
 "nbformat_minor": 2
}
